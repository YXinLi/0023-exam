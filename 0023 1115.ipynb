{
 "cells": [
  {
   "cell_type": "code",
   "execution_count": 1,
   "id": "9ad7664e",
   "metadata": {},
   "outputs": [],
   "source": [
    "import numpy as np\n",
    "import pandas as pd\n",
    "import yfinance as yf\n",
    "import matplotlib.pyplot as plt"
   ]
  },
  {
   "cell_type": "code",
   "execution_count": null,
   "id": "adfa2d67",
   "metadata": {},
   "outputs": [],
   "source": [
    "#################################################"
   ]
  },
  {
   "cell_type": "code",
   "execution_count": null,
   "id": "482eddce",
   "metadata": {},
   "outputs": [],
   "source": [
    "############### QUESTION 1 ######################"
   ]
  },
  {
   "cell_type": "code",
   "execution_count": null,
   "id": "8869a014",
   "metadata": {},
   "outputs": [],
   "source": [
    "# My surname is LI, and the company chosen is Lockheed Martin Corp."
   ]
  },
  {
   "cell_type": "code",
   "execution_count": 87,
   "id": "599cb912",
   "metadata": {},
   "outputs": [
    {
     "name": "stdout",
     "output_type": "stream",
     "text": [
      "[*********************100%%**********************]  1 of 1 completed\n"
     ]
    }
   ],
   "source": [
    "# Download Monthly Stock Price Data for Lockheed Martin Corp.\n",
    "data = yf.download(\"LMT\", start=\"2015-01-01\", end=\"2019-12-31\", interval='1mo')"
   ]
  },
  {
   "cell_type": "code",
   "execution_count": 90,
   "id": "7c715a58",
   "metadata": {},
   "outputs": [
    {
     "name": "stdout",
     "output_type": "stream",
     "text": [
      "\n",
      "Annualised Return:\n",
      "17.68%\n",
      "\n",
      "Annualised Volatility:\n",
      "18.66%\n"
     ]
    }
   ],
   "source": [
    "# Calculate Monthly Log Returns and Annualised Return\n",
    "# Calculate log returns\n",
    "data['Log_Return'] = np.log(data['Adj Close'] / data['Adj Close'].shift(1))\n",
    "\n",
    "# Drop missing values introduced by the shift\n",
    "data = data.dropna()\n",
    "\n",
    "\n",
    "\n",
    "\n",
    "# Calculate annualized return\n",
    "average_monthly_return = data['Log_Return'].mean()\n",
    "annualized_return = (1 + average_monthly_return)**12 - 1\n",
    "\n",
    "# Step 3: Calculate Annualised Volatility\n",
    "# Calculate annualized volatility\n",
    "annualized_volatility = data['Log_Return'].std() * np.sqrt(12)\n",
    "\n",
    "# Display the results\n",
    "print(\"\\nAnnualised Return:\")\n",
    "print(f\"{annualized_return * 100:.2f}%\")\n",
    "\n",
    "print(\"\\nAnnualised Volatility:\")\n",
    "print(f\"{annualized_volatility * 100:.2f}%\")"
   ]
  },
  {
   "cell_type": "code",
   "execution_count": 8,
   "id": "0e2b0089",
   "metadata": {
    "scrolled": true
   },
   "outputs": [
    {
     "name": "stdout",
     "output_type": "stream",
     "text": [
      "Requirement already satisfied: yesg in /Users/apple/anaconda3/lib/python3.11/site-packages (2.1.1)\n",
      "Note: you may need to restart the kernel to use updated packages.\n"
     ]
    }
   ],
   "source": [
    "# Download ESG Data and Handle Missing Values\n",
    "pip install yesg"
   ]
  },
  {
   "cell_type": "code",
   "execution_count": 10,
   "id": "c7ddeb6f",
   "metadata": {},
   "outputs": [],
   "source": [
    "import yesg"
   ]
  },
  {
   "cell_type": "code",
   "execution_count": null,
   "id": "996c9dfc",
   "metadata": {},
   "outputs": [],
   "source": [
    "# GET THE full ESG DATA FOR THE COMAPNY"
   ]
  },
  {
   "cell_type": "code",
   "execution_count": 98,
   "id": "5e649a82",
   "metadata": {},
   "outputs": [],
   "source": [
    "esg_data = yesg.get_historic_esg('LMT')"
   ]
  },
  {
   "cell_type": "code",
   "execution_count": 99,
   "id": "fbbc91d1",
   "metadata": {},
   "outputs": [
    {
     "name": "stdout",
     "output_type": "stream",
     "text": [
      "Index(['Total-Score', 'E-Score', 'S-Score', 'G-Score'], dtype='object')\n"
     ]
    }
   ],
   "source": [
    "# TO KNOW THE COLUMNS NAMES\n",
    "print(esg_data.columns)"
   ]
  },
  {
   "cell_type": "code",
   "execution_count": 100,
   "id": "73623f8e",
   "metadata": {},
   "outputs": [],
   "source": [
    "esg_score_column_name = 'Total-Score'"
   ]
  },
  {
   "cell_type": "code",
   "execution_count": 101,
   "id": "608da675",
   "metadata": {},
   "outputs": [],
   "source": [
    "# Assuming esg_data is a DataFrame with 'totalScore' column\n",
    "esg_data = esg_data['Total-Score']"
   ]
  },
  {
   "cell_type": "code",
   "execution_count": 103,
   "id": "dc545367",
   "metadata": {},
   "outputs": [],
   "source": [
    "# Filter data for the specified date range\n",
    "esg_data = esg_data.loc['2015-01-01':'2019-12-31']"
   ]
  },
  {
   "cell_type": "code",
   "execution_count": 104,
   "id": "50f69ec0",
   "metadata": {
    "scrolled": true
   },
   "outputs": [
    {
     "data": {
      "text/plain": [
       "Date\n",
       "2015-01-01    72.00\n",
       "2015-02-01    71.00\n",
       "2015-03-01    69.00\n",
       "2015-04-01    69.00\n",
       "2015-05-01    70.00\n",
       "2015-06-01    70.00\n",
       "2015-07-01    70.00\n",
       "2015-08-01    70.00\n",
       "2015-09-01    70.00\n",
       "2015-10-01    70.00\n",
       "2015-11-01    70.00\n",
       "2015-12-01    71.00\n",
       "2016-01-01    71.33\n",
       "2016-02-01    71.33\n",
       "2016-03-01    71.33\n",
       "2016-04-01    69.97\n",
       "2016-05-01    69.97\n",
       "2016-06-01    69.97\n",
       "2016-07-01    69.27\n",
       "2016-08-01    69.27\n",
       "2016-09-01    69.27\n",
       "2016-10-01    69.27\n",
       "2016-11-01    69.27\n",
       "2016-12-01    69.27\n",
       "2017-01-01    69.29\n",
       "2017-02-01    69.29\n",
       "2017-03-01    68.42\n",
       "2017-04-01    70.00\n",
       "2017-05-01    69.56\n",
       "2017-06-01    69.56\n",
       "2017-07-01    69.56\n",
       "2017-08-01    69.56\n",
       "2017-09-01    69.56\n",
       "2017-10-01    67.71\n",
       "2017-11-01    67.71\n",
       "2017-12-01    67.71\n",
       "2018-01-01    67.71\n",
       "2018-02-01    67.71\n",
       "2018-03-01    67.71\n",
       "2018-04-01    67.71\n",
       "2018-05-01    67.71\n",
       "2018-06-01    67.71\n",
       "2018-07-01    67.71\n",
       "2018-08-01    67.71\n",
       "2018-09-01    62.87\n",
       "2018-10-01    63.47\n",
       "2018-11-01    63.37\n",
       "2018-12-01    63.37\n",
       "2019-01-01    63.37\n",
       "2019-02-01    63.37\n",
       "2019-03-01    63.59\n",
       "2019-04-01    63.59\n",
       "2019-05-01    63.55\n",
       "2019-06-01    63.55\n",
       "2019-07-01    63.55\n",
       "2019-08-01    64.86\n",
       "2019-09-01    64.86\n",
       "2019-10-01    65.09\n",
       "2019-11-01    65.09\n",
       "2019-12-01    30.74\n",
       "Name: Total-Score, dtype: float64"
      ]
     },
     "execution_count": 104,
     "metadata": {},
     "output_type": "execute_result"
    }
   ],
   "source": [
    "# PRINT DATA\n",
    "esg_data"
   ]
  },
  {
   "cell_type": "code",
   "execution_count": 106,
   "id": "66a298d2",
   "metadata": {},
   "outputs": [],
   "source": [
    "# Fill missing values with the previous month's data\n",
    "esg_data = esg_data.ffill()"
   ]
  },
  {
   "cell_type": "code",
   "execution_count": 108,
   "id": "51a14291",
   "metadata": {},
   "outputs": [],
   "source": [
    "# Combine stock price and ESG data\n",
    "combined_data = pd.concat([data['Adj Close'], esg_data], axis=1)\n",
    "combined_data.columns = ['Stock Price', 'ESG Score']"
   ]
  },
  {
   "cell_type": "code",
   "execution_count": 115,
   "id": "1ff2ea2f",
   "metadata": {},
   "outputs": [
    {
     "data": {
      "image/png": "[encoded data removed]",
      "text/plain": [
       "<Figure size 640x480 with 2 Axes>"
      ]
     },
     "metadata": {},
     "output_type": "display_data"
    }
   ],
   "source": [
    "\n",
    "# Plotting\n",
    "fig, ax1 = plt.subplots()\n",
    "\n",
    "color = 'tab:red'\n",
    "ax1.set_xlabel('Date')\n",
    "ax1.set_ylabel('Stock Price', color=color)\n",
    "ax1.plot(combined_data.index, combined_data['Stock Price'], color=color)\n",
    "ax1.tick_params(axis='y', labelcolor=color)\n",
    "\n",
    "ax2 = ax1.twinx()\n",
    "color = 'tab:blue'\n",
    "ax2.set_ylabel('ESG Score', color=color)\n",
    "ax2.plot(combined_data.index, combined_data['ESG Score'], color=color)\n",
    "ax2.tick_params(axis='y', labelcolor=color)\n",
    "\n",
    "plt.title('Stock Price and ESG Score Over Time')\n",
    "plt.show()\n"
   ]
  },
  {
   "cell_type": "code",
   "execution_count": 114,
   "id": "6194bb20",
   "metadata": {},
   "outputs": [
    {
     "name": "stdout",
     "output_type": "stream",
     "text": [
      "\n",
      "Correlation Coefficient: -0.5585\n"
     ]
    }
   ],
   "source": [
    "# Calculate and Analyse the Correlation\n",
    "correlation_coefficient = combined_data['Stock Price'].corr(combined_data['ESG Score'])\n",
    "print(f\"\\nCorrelation Coefficient: {correlation_coefficient:.4f}\")\n"
   ]
  },
  {
   "cell_type": "code",
   "execution_count": null,
   "id": "25e04ffd",
   "metadata": {},
   "outputs": [],
   "source": []
  },
  {
   "cell_type": "code",
   "execution_count": null,
   "id": "d3fd68a5",
   "metadata": {},
   "outputs": [],
   "source": [
    "#################################################"
   ]
  },
  {
   "cell_type": "code",
   "execution_count": null,
   "id": "51a20a00",
   "metadata": {},
   "outputs": [],
   "source": [
    "############### QUESTION 2 ######################"
   ]
  },
  {
   "cell_type": "code",
   "execution_count": null,
   "id": "cd59f8bc",
   "metadata": {},
   "outputs": [],
   "source": [
    "# information given\n",
    "city = \"shanghai\"\n",
    "month = 9\n",
    "year = 2002\n",
    "\n",
    "# which means i need to calculate the CDD\n",
    "\n",
    "latitude = 31.2304  \n",
    "longitude = 121.4737 \n",
    "altitude = 4  \n",
    "base_temperature = 18  "
   ]
  },
  {
   "cell_type": "code",
   "execution_count": 41,
   "id": "4760dd04",
   "metadata": {},
   "outputs": [],
   "source": [
    "import numpy as np\n",
    "from datetime import datetime\n",
    "import matplotlib.pyplot as plt\n",
    "from meteostat import Point, Daily"
   ]
  },
  {
   "cell_type": "code",
   "execution_count": 59,
   "id": "53c38f6c",
   "metadata": {},
   "outputs": [],
   "source": [
    "# Step 1: Data Collection and Visualization\n",
    "# Using the meteostat library, we gather daily average temperature data for shanghai\n",
    "\n",
    "# Setting the time period from 2022-09-01 to 2022-09-30\n",
    "start = datetime(2022, 9, 1)\n",
    "end = datetime(2022, 9, 30)\n",
    "\n",
    "# set the location\n",
    "location = Point(31.2304, 121.4737, 4)"
   ]
  },
  {
   "cell_type": "code",
   "execution_count": 60,
   "id": "5d1a9451",
   "metadata": {},
   "outputs": [],
   "source": [
    "# fetch the daily data\n",
    "# Using the specified location and time range, we fetch the daily weather data:\n",
    "data = Daily(location, start, end)\n",
    "data = data.fetch()"
   ]
  },
  {
   "cell_type": "code",
   "execution_count": 61,
   "id": "01434712",
   "metadata": {},
   "outputs": [
    {
     "data": {
      "image/png": "[encoded data removed]",
      "text/plain": [
       "<Figure size 640x480 with 1 Axes>"
      ]
     },
     "metadata": {},
     "output_type": "display_data"
    }
   ],
   "source": [
    "data.plot(y=['tavg'])\n",
    "plt.show()"
   ]
  },
  {
   "cell_type": "code",
   "execution_count": 62,
   "id": "8e268b31",
   "metadata": {},
   "outputs": [],
   "source": [
    "# Calculating Cooling Degree Days (CDD)\n",
    "\n",
    "#  Cooling Degree Days (CDD) are a measure used to quantify the demand for energy needed to cool a building. \n",
    "#  The CDD is calculated as the difference between a day's average temperature and a base temperature, \n",
    "#  only considering days that are warmer than the base temperature. The formula is:\n",
    "#       CDD=max(𝑇avg−18,0)\n",
    "#  where Tavg is the average temperature"
   ]
  },
  {
   "cell_type": "code",
   "execution_count": 63,
   "id": "9e78fec4",
   "metadata": {},
   "outputs": [],
   "source": [
    "T_base = 18\n",
    "cdds = [max(temp - T_base, 0) for temp in data.tavg]"
   ]
  },
  {
   "cell_type": "code",
   "execution_count": 64,
   "id": "b6f89849",
   "metadata": {},
   "outputs": [
    {
     "name": "stdout",
     "output_type": "stream",
     "text": [
      "Total CDD: 203.9\n"
     ]
    }
   ],
   "source": [
    "total_cdd = sum(cdds)\n",
    "print(\"Total CDD:\", total_cdd)"
   ]
  },
  {
   "cell_type": "code",
   "execution_count": null,
   "id": "f32dd9e4",
   "metadata": {},
   "outputs": [],
   "source": [
    "# in concolusion the CDD is 203.9"
   ]
  }
 ],
 "metadata": {
  "kernelspec": {
   "display_name": "Python 3 (ipykernel)",
   "language": "python",
   "name": "python3"
  },
  "language_info": {
   "codemirror_mode": {
    "name": "ipython",
    "version": 3
   },
   "file_extension": ".py",
   "mimetype": "text/x-python",
   "name": "python",
   "nbconvert_exporter": "python",
   "pygments_lexer": "ipython3",
   "version": "3.11.5"
  }
 },
 "nbformat": 4,
 "nbformat_minor": 5
}
